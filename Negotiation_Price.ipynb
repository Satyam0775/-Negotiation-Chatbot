{
  "nbformat": 4,
  "nbformat_minor": 0,
  "metadata": {
    "colab": {
      "provenance": [],
      "authorship_tag": "ABX9TyP+5RJlqQFiFc/b70FSLbNw",
      "include_colab_link": true
    },
    "kernelspec": {
      "name": "python3",
      "display_name": "Python 3"
    },
    "language_info": {
      "name": "python"
    }
  },
  "cells": [
    {
      "cell_type": "markdown",
      "metadata": {
        "id": "view-in-github",
        "colab_type": "text"
      },
      "source": [
        "<a href=\"https://colab.research.google.com/github/Satyam0775/-Negotiation-Chatbot/blob/main/Negotiation_Price.ipynb\" target=\"_parent\"><img src=\"https://colab.research.google.com/assets/colab-badge.svg\" alt=\"Open In Colab\"/></a>"
      ]
    },
    {
      "cell_type": "code",
      "source": [
        "!pip install openai"
      ],
      "metadata": {
        "colab": {
          "base_uri": "https://localhost:8080/"
        },
        "id": "-3bu-QDH5WzD",
        "outputId": "3602115e-7203-41d7-ebaf-aeea2941b14b"
      },
      "execution_count": 59,
      "outputs": [
        {
          "output_type": "stream",
          "name": "stdout",
          "text": [
            "Requirement already satisfied: openai in /usr/local/lib/python3.10/dist-packages (1.45.0)\n",
            "Requirement already satisfied: anyio<5,>=3.5.0 in /usr/local/lib/python3.10/dist-packages (from openai) (3.7.1)\n",
            "Requirement already satisfied: distro<2,>=1.7.0 in /usr/lib/python3/dist-packages (from openai) (1.7.0)\n",
            "Requirement already satisfied: httpx<1,>=0.23.0 in /usr/local/lib/python3.10/dist-packages (from openai) (0.27.2)\n",
            "Requirement already satisfied: jiter<1,>=0.4.0 in /usr/local/lib/python3.10/dist-packages (from openai) (0.5.0)\n",
            "Requirement already satisfied: pydantic<3,>=1.9.0 in /usr/local/lib/python3.10/dist-packages (from openai) (2.9.1)\n",
            "Requirement already satisfied: sniffio in /usr/local/lib/python3.10/dist-packages (from openai) (1.3.1)\n",
            "Requirement already satisfied: tqdm>4 in /usr/local/lib/python3.10/dist-packages (from openai) (4.66.5)\n",
            "Requirement already satisfied: typing-extensions<5,>=4.11 in /usr/local/lib/python3.10/dist-packages (from openai) (4.12.2)\n",
            "Requirement already satisfied: idna>=2.8 in /usr/local/lib/python3.10/dist-packages (from anyio<5,>=3.5.0->openai) (3.8)\n",
            "Requirement already satisfied: exceptiongroup in /usr/local/lib/python3.10/dist-packages (from anyio<5,>=3.5.0->openai) (1.2.2)\n",
            "Requirement already satisfied: certifi in /usr/local/lib/python3.10/dist-packages (from httpx<1,>=0.23.0->openai) (2024.8.30)\n",
            "Requirement already satisfied: httpcore==1.* in /usr/local/lib/python3.10/dist-packages (from httpx<1,>=0.23.0->openai) (1.0.5)\n",
            "Requirement already satisfied: h11<0.15,>=0.13 in /usr/local/lib/python3.10/dist-packages (from httpcore==1.*->httpx<1,>=0.23.0->openai) (0.14.0)\n",
            "Requirement already satisfied: annotated-types>=0.6.0 in /usr/local/lib/python3.10/dist-packages (from pydantic<3,>=1.9.0->openai) (0.7.0)\n",
            "Requirement already satisfied: pydantic-core==2.23.3 in /usr/local/lib/python3.10/dist-packages (from pydantic<3,>=1.9.0->openai) (2.23.3)\n"
          ]
        }
      ]
    },
    {
      "cell_type": "code",
      "source": [
        "!pip install transformers"
      ],
      "metadata": {
        "id": "IdXj71wB546T"
      },
      "execution_count": null,
      "outputs": []
    },
    {
      "cell_type": "code",
      "source": [
        "# Import OpenAI SDK\n",
        "import openai\n",
        "\n",
        "# Used to securely store your API key in Google Colab\n",
        "from google.colab import userdata\n",
        "\n",
        "# Retrieve OpenAI API key from stored secrets\n",
        "OPENAI_API_KEY = userdata.get('OPENAI_API_KEY')\n",
        "\n",
        "# Configure OpenAI with the retrieved API key\n",
        "openai.api_key = OPENAI_API_KEY\n"
      ],
      "metadata": {
        "id": "kPdx05og6Xm2"
      },
      "execution_count": null,
      "outputs": []
    },
    {
      "cell_type": "code",
      "source": [
        "def chatbot_response(user_input):\n",
        "    # ChatGPT-based negotiation logic\n",
        "    response = openai.Completion.create(\n",
        "        engine=\"text-davinci-003\",\n",
        "        prompt=f\"You are a supplier negotiating product price. User says: '{user_input}'. How do you respond?\",\n",
        "        max_tokens=100\n",
        "    )\n",
        "    return response.choices[0].text.strip()\n"
      ],
      "metadata": {
        "id": "r1KkFuu_60i3"
      },
      "execution_count": null,
      "outputs": []
    },
    {
      "cell_type": "code",
      "source": [
        "def negotiate_price(user_offer, base_price=100):\n",
        "    # Set min and max price range for negotiation\n",
        "    min_price = 80\n",
        "    max_price = 120\n",
        "\n",
        "    if user_offer >= base_price:\n",
        "        return f\"Offer accepted! The price is {user_offer}.\"\n",
        "    elif user_offer < min_price:\n",
        "        return f\"Your offer of {user_offer} is too low. The lowest we can go is {min_price}.\"\n",
        "    else:\n",
        "        return f\"We can meet you halfway at {base_price - 5}. Does that work for you?\"\n"
      ],
      "metadata": {
        "id": "fPtaGWi_672T"
      },
      "execution_count": null,
      "outputs": []
    },
    {
      "cell_type": "code",
      "source": [
        "def negotiate_with_user():\n",
        "    # Initial product price\n",
        "    base_price = 100\n",
        "    print(\"Chatbot: The starting price for the product is $100.\")\n",
        "\n",
        "    while True:\n",
        "        user_input = input(\"Your offer: \")\n",
        "        if user_input.lower() == \"accept\":\n",
        "            print(\"Chatbot: Great! The deal is made.\")\n",
        "            break\n",
        "        elif user_input.lower() == \"reject\":\n",
        "            print(\"Chatbot: Sorry to hear that. Let us know if you'd like to negotiate further.\")\n",
        "            break\n",
        "        else:\n",
        "            user_offer = int(user_input)\n",
        "            bot_response = negotiate_price(user_offer, base_price)\n",
        "            print(f\"Chatbot: {bot_response}\")\n",
        "            if \"accepted\" in bot_response.lower():\n",
        "                break\n"
      ],
      "metadata": {
        "id": "dFe085Mw7Cia"
      },
      "execution_count": null,
      "outputs": []
    },
    {
      "cell_type": "code",
      "source": [
        "# Step 1: Import libraries\n",
        "import openai\n",
        "from google.colab import userdata\n",
        "\n",
        "# Step 2: Securely retrieve OpenAI API key from stored secrets\n",
        "OPENAI_API_KEY = userdata.get('OPENAI_API_KEY')\n",
        "openai.api_key = OPENAI_API_KEY\n",
        "\n",
        "# Step 3: Define function to generate chatbot response using OpenAI\n",
        "def chatbot_response(user_input):\n",
        "    response = openai.Completion.create(\n",
        "        engine=\"text-davinci-003\",\n",
        "        prompt=f\"You are a supplier negotiating product price. User says: '{user_input}'. How do you respond?\",\n",
        "        max_tokens=100\n",
        "    )\n",
        "    return response.choices[0].text.strip()\n",
        "\n",
        "# Step 4: Define function to negotiate price with logic\n",
        "def negotiate_price(user_offer, base_price=100):\n",
        "    min_price = 80\n",
        "    max_price = 120\n",
        "\n",
        "    if user_offer >= base_price:\n",
        "        return f\"Offer accepted! The price is {user_offer}.\"\n",
        "    elif user_offer < min_price:\n",
        "        return f\"Your offer of {user_offer} is too low. The lowest we can go is {min_price}.\"\n",
        "    else:\n",
        "        return f\"We can meet you halfway at {base_price - 5}. Does that work for you?\"\n",
        "\n",
        "# Step 5: Define full negotiation conversation with user\n",
        "def negotiate_with_user():\n",
        "    base_price = 100\n",
        "    print(\"Chatbot: The starting price for the product is $100.\")\n",
        "\n",
        "    while True:\n",
        "        user_input = input(\"Your offer: \")\n",
        "\n",
        "        if user_input.lower() == \"accept\":\n",
        "            print(\"Chatbot: Great! The deal is made.\")\n",
        "            break\n",
        "        elif user_input.lower() == \"reject\":\n",
        "            print(\"Chatbot: Sorry to hear that. Let us know if you'd like to negotiate further.\")\n",
        "            break\n",
        "        else:\n",
        "            try:\n",
        "                user_offer = int(user_input)\n",
        "                bot_response = negotiate_price(user_offer, base_price)\n",
        "                print(f\"Chatbot: {bot_response}\")\n",
        "                if \"accepted\" in bot_response.lower():\n",
        "                    break\n",
        "            except ValueError:\n",
        "                print(\"Please enter a valid numerical offer.\")\n"
      ],
      "metadata": {
        "id": "hA-5Pkw57EV4"
      },
      "execution_count": 60,
      "outputs": []
    },
    {
      "cell_type": "code",
      "source": [
        "negotiate_with_user()"
      ],
      "metadata": {
        "colab": {
          "base_uri": "https://localhost:8080/"
        },
        "id": "iZ5eNzEjCb7s",
        "outputId": "9745d29e-5b32-4444-bbc1-b5f3d61fb96b"
      },
      "execution_count": 68,
      "outputs": [
        {
          "output_type": "stream",
          "name": "stdout",
          "text": [
            "Chatbot: The starting price for the product is $100.\n",
            "Your offer: 90\n",
            "Chatbot: Thank you for your offer of 90.0. I can meet you halfway and offer a price of 105.0. Does this work for you?\n",
            "Your offer: 89\n",
            "Chatbot: Thank you for your offer of 89.0. I can meet you halfway and offer a price of 105.0. Does this work for you?\n",
            "Your offer: 1\n",
            "Chatbot: I'm sorry, but 1.0 is too low. The lowest price I can offer is 80. Would you like to make another offer?\n",
            "Your offer: accept\n",
            "Chatbot: Great! The deal is made.\n"
          ]
        }
      ]
    },
    {
      "cell_type": "code",
      "source": [],
      "metadata": {
        "id": "9Hhi5tSQGJZ0"
      },
      "execution_count": null,
      "outputs": []
    }
  ]
}